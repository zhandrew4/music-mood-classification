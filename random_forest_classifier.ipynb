{
 "cells": [
  {
   "cell_type": "markdown",
   "metadata": {},
   "source": [
    "# Random Forest Classifier"
   ]
  },
  {
   "cell_type": "code",
   "execution_count": 2,
   "metadata": {},
   "outputs": [],
   "source": [
    "import pandas as pd\n",
    "import numpy as np\n",
    "import matplotlib.pyplot as plt\n",
    "\n",
    "from sklearn.ensemble import RandomForestClassifier\n",
    "from sklearn.model_selection import train_test_split\n",
    "\n",
    "from sklearn.metrics import accuracy_score, f1_score, precision_score"
   ]
  },
  {
   "cell_type": "code",
   "execution_count": 8,
   "metadata": {},
   "outputs": [],
   "source": [
    "# Get labels from kmeans_pca_3.csv\n",
    "labels = pd.read_csv('kmeans_pca_3.csv')\n",
    "labels = labels.loc[:, 'Labels']\n"
   ]
  },
  {
   "cell_type": "code",
   "execution_count": 14,
   "metadata": {},
   "outputs": [],
   "source": [
    "# Get features from pca_3.csv (3 features) and pca_80(7 features)\n",
    "feats_3 = pd.read_csv('pca_3.csv')\n",
    "feats_3 = feats_3.drop('Unnamed: 0', axis=1)\n",
    "\n",
    "feats_7 = pd.read_csv('pca_80.csv')\n",
    "feats_7 = feats_7.drop('Unnamed: 0', axis=1)\n",
    "\n",
    "# Get training and Testing Splits (80/20)\n",
    "x_3_train, x_3_test, y_3_train, y_3_test = train_test_split(feats_3, labels, test_size=0.2) # TODO: Could try default test_size\n",
    "x_7_train, x_7_test, y_7_train, y_7_test = train_test_split(feats_7, labels, test_size=0.2) # TODO: Could try default test_size\n",
    "\n",
    "# TODO: Possibly need numpy conversions for y_test values"
   ]
  },
  {
   "cell_type": "code",
   "execution_count": 44,
   "metadata": {},
   "outputs": [],
   "source": [
    "# TODO: Run model on both sets of features\n",
    "clf = RandomForestClassifier(n_estimators=95, max_depth=15, random_state=0) # TODO: Parameter tuning, might fail without setting max_depth and some other parameters\n",
    "clf.fit(x_3_train, y_3_train) # Fit the model\n",
    "yh = clf.predict(x_3_test)\n",
    "#print(\"Predicted: \", yh)\n",
    "#print(\"Actual: \", y_3_test)\n",
    "\n",
    "clf_7 = RandomForestClassifier(n_estimators=128, max_depth=None, random_state=0) # TODO: Parameter tuning, might fail without setting max_depth and some other parameters\n",
    "clf_7.fit(x_7_train, y_7_train) # Fit the model\n",
    "yh_7 = clf_7.predict(x_7_test)\n",
    "#print(\"Predicted: \", yh_7)\n",
    "#print(\"Actual: \", y_7_test)"
   ]
  },
  {
   "cell_type": "code",
   "execution_count": 45,
   "metadata": {},
   "outputs": [
    {
     "name": "stdout",
     "output_type": "stream",
     "text": [
      "-----------------3 features-----------------\n",
      "Accuracy:  0.9908038851002273\n",
      "Precision:  0.9908059991028073\n",
      "F1 Score:  0.9908040343346386\n",
      "-----------------7 features-----------------\n",
      "Accuracy:  0.9831576772060343\n",
      "Precision:  0.9831548262386596\n",
      "F1 Score:  0.9831545526152303\n"
     ]
    }
   ],
   "source": [
    "# TODO: Find accuracy, precision, and f1 score\n",
    "\n",
    "print(\"-----------------3 features-----------------\")\n",
    "\n",
    "accuracy = accuracy_score(y_3_test, yh)\n",
    "print(\"Accuracy: \", accuracy)\n",
    "\n",
    "precision = precision_score(y_3_test, yh, average=\"weighted\")\n",
    "print(\"Precision: \", precision)\n",
    "\n",
    "f1 = f1_score(y_3_test, yh, average='weighted')\n",
    "print(\"F1 Score: \", f1)\n",
    "\n",
    "print(\"-----------------7 features-----------------\")\n",
    "\n",
    "accuracy = accuracy_score(y_7_test, yh_7)\n",
    "print(\"Accuracy: \", accuracy)\n",
    "\n",
    "precision = precision_score(y_7_test, yh_7, average=\"weighted\")\n",
    "print(\"Precision: \", precision)\n",
    "\n",
    "f1 = f1_score(y_7_test, yh_7, average='weighted')\n",
    "print(\"F1 Score: \", f1)\n"
   ]
  },
  {
   "cell_type": "markdown",
   "metadata": {},
   "source": [
    "```python:\n",
    "max_depth=None, random_state=0\n",
    "-----------------3 features-----------------\n",
    "Accuracy:  0.990700557966522\n",
    "Precision:  0.9907095866611935\n",
    "F1 Score:  0.990703084542843\n",
    "-----------------7 features-----------------\n",
    "Accuracy:  0.9826410415375078\n",
    "Precision:  0.9826372310723576\n",
    "F1 Score:  0.9826368790190678\n",
    "\n",
    "max_depth=15, random_state=0\n",
    "-----------------3 features-----------------\n",
    "Accuracy:  0.9908038851002273\n",
    "Precision:  0.9908053192464386\n",
    "F1 Score:  0.9908037607517728\n",
    "-----------------7 features-----------------\n",
    "Accuracy:  0.9815044430667493\n",
    "Precision:  0.9814947522383299\n",
    "F1 Score:  0.9814948636682381\n",
    "\n",
    "n_estimators=95,128, max_depth=15, random_state=0\n",
    "-----------------3 features-----------------\n",
    "Accuracy:  0.9908038851002273\n",
    "Precision:  0.9908059991028073\n",
    "F1 Score:  0.9908040343346386\n",
    "-----------------7 features-----------------\n",
    "Accuracy:  0.9831576772060343\n",
    "Precision:  0.9831548262386596\n",
    "F1 Score:  0.9831545526152303"
   ]
  }
 ],
 "metadata": {
  "kernelspec": {
   "display_name": "Python 3.10.6 ('project')",
   "language": "python",
   "name": "python3"
  },
  "language_info": {
   "codemirror_mode": {
    "name": "ipython",
    "version": 3
   },
   "file_extension": ".py",
   "mimetype": "text/x-python",
   "name": "python",
   "nbconvert_exporter": "python",
   "pygments_lexer": "ipython3",
   "version": "3.10.6"
  },
  "orig_nbformat": 4,
  "vscode": {
   "interpreter": {
    "hash": "664d7d1e77bd8bd508214cb5cd2f5b3c131a93de4996fcd1440cdfbdd8eac3fb"
   }
  }
 },
 "nbformat": 4,
 "nbformat_minor": 2
}

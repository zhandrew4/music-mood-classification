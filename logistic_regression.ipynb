{
 "cells": [
  {
   "cell_type": "markdown",
   "metadata": {},
   "source": [
    "Logistic Regression Using 3 PCA Components (Labels from KMeans on 3 PCA Components)"
   ]
  },
  {
   "cell_type": "code",
   "execution_count": 54,
   "metadata": {},
   "outputs": [],
   "source": [
    "import pandas as pd\n",
    "import numpy as np\n",
    "import matplotlib.pyplot as plt\n",
    "\n",
    "from sklearn.linear_model import LogisticRegression\n",
    "from sklearn.model_selection import train_test_split\n",
    "\n",
    "from sklearn.metrics import accuracy_score, f1_score, precision_score, balanced_accuracy_score"
   ]
  },
  {
   "cell_type": "code",
   "execution_count": 55,
   "metadata": {},
   "outputs": [],
   "source": [
    "features = pd.read_csv(\"pca_3.csv\")\n",
    "features = features.drop(\"Unnamed: 0\", axis=1)\n",
    "\n",
    "# labels obtained from KMeans on 3 PCA Features\n",
    "labels = pd.read_csv(\"kmeans_pca_3.csv\")\n",
    "labels = labels.loc[:,\"Labels\"]\n",
    "\n",
    "# split data into training and testing data (80% train, 20% test)\n",
    "X_train, X_test, y_train, y_test = train_test_split(features, labels, test_size=0.2)\n",
    "\n",
    "y_true = y_test.to_numpy()"
   ]
  },
  {
   "cell_type": "code",
   "execution_count": 69,
   "metadata": {},
   "outputs": [
    {
     "name": "stdout",
     "output_type": "stream",
     "text": [
      "[2 1 2 ... 0 1 0]\n",
      "[2 1 2 ... 0 1 0]\n",
      "Accuracy: 0.9988634015292416\n",
      "Precision: 0.9988643578804127\n",
      "F1 Score / F-Score: 0.9988634261847212\n"
     ]
    }
   ],
   "source": [
    "# Fitting Model Using Training Data\n",
    "clf = LogisticRegression().fit(X_train, y_train)\n",
    "\n",
    "# Predicting Labels Using Test Data\n",
    "y_pred = clf.predict(X_test)\n",
    "print(y_true)\n",
    "print(y_pred)\n",
    "\n",
    "accuracy = accuracy_score(y_true, y_pred)\n",
    "precision = precision_score(y_true, y_pred, average=\"weighted\")\n",
    "f1 = f1_score(y_true, y_pred, average=\"weighted\")\n",
    "print(\"Accuracy: \" + str(accuracy))\n",
    "print(\"Precision: \" + str(precision))\n",
    "print(\"F1 Score / F-Score: \" + str(f1))"
   ]
  },
  {
   "cell_type": "markdown",
   "metadata": {},
   "source": [
    "Running Logistic Regression Using 7 PCA Componenets (80% Variance) - Still Using KMeans w/ 3 PCA Components for Labels"
   ]
  },
  {
   "cell_type": "code",
   "execution_count": 57,
   "metadata": {},
   "outputs": [],
   "source": [
    "features_pca80 = pd.read_csv(\"pca_80.csv\")\n",
    "features_pca80 = features_pca80.drop(\"Unnamed: 0\", axis=1)\n",
    "\n",
    "# labels obtained from KMeans on 3 PCA Features\n",
    "labels = pd.read_csv(\"kmeans_pca_3.csv\")\n",
    "labels = labels.loc[:,\"Labels\"]\n",
    "\n",
    "# split data into training and testing data (80% train, 20% test)\n",
    "X_train2, X_test2, y_train2, y_test2 = train_test_split(features_pca80, labels, test_size=0.2)\n",
    "\n",
    "y_true2 = y_test2.to_numpy()"
   ]
  },
  {
   "cell_type": "code",
   "execution_count": 65,
   "metadata": {},
   "outputs": [
    {
     "name": "stdout",
     "output_type": "stream",
     "text": [
      "[3 1 0 ... 0 1 1]\n",
      "[3 1 0 ... 0 1 1]\n",
      "Accuracy: 0.9989667286629469\n",
      "Precision: 0.9989672228915609\n",
      "F1 Score / F-Score: 0.9989667570952033\n"
     ]
    }
   ],
   "source": [
    "# Fitting Model Using Training Data\n",
    "clf = LogisticRegression().fit(X_train2, y_train2)\n",
    "\n",
    "# Predicting Labels Using Test Data\n",
    "y_pred2 = clf.predict(X_test2)\n",
    "print(y_true2)\n",
    "print(y_pred2)\n",
    "\n",
    "accuracy = accuracy_score(y_true2, y_pred2)\n",
    "precision = precision_score(y_true2, y_pred2, average=\"weighted\")\n",
    "f1 = f1_score(y_true2, y_pred2, average=\"weighted\")\n",
    "print(\"Accuracy: \" + str(accuracy))\n",
    "print(\"Precision: \" + str(precision))\n",
    "print(\"F1 Score / F-Score: \" + str(f1))"
   ]
  }
 ],
 "metadata": {
  "kernelspec": {
   "display_name": "Python 3.10.6 ('project')",
   "language": "python",
   "name": "python3"
  },
  "language_info": {
   "codemirror_mode": {
    "name": "ipython",
    "version": 3
   },
   "file_extension": ".py",
   "mimetype": "text/x-python",
   "name": "python",
   "nbconvert_exporter": "python",
   "pygments_lexer": "ipython3",
   "version": "3.10.6"
  },
  "orig_nbformat": 4,
  "vscode": {
   "interpreter": {
    "hash": "3b8b1422ef60feba1ba898f77baa262bb8042f37a5c434509b199405bca29ee9"
   }
  }
 },
 "nbformat": 4,
 "nbformat_minor": 2
}

{
 "cells": [
  {
   "cell_type": "code",
   "execution_count": 1,
   "metadata": {},
   "outputs": [],
   "source": [
    "import numpy as np \n",
    "import pandas as pd\n",
    "import matplotlib.pyplot as plt\n",
    "\n",
    "from sklearn.model_selection import train_test_split\n",
    "from sklearn.naive_bayes import GaussianNB\n",
    "\n",
    "from sklearn.metrics import accuracy_score, f1_score, precision_score, balanced_accuracy_score"
   ]
  },
  {
   "cell_type": "code",
   "execution_count": 2,
   "metadata": {},
   "outputs": [],
   "source": [
    "# Get labels from kmeans_pca_3.csv\n",
    "labels = pd.read_csv('kmeans_pca_3.csv')\n",
    "labels = labels.loc[:, 'Labels']"
   ]
  },
  {
   "cell_type": "code",
   "execution_count": 3,
   "metadata": {},
   "outputs": [],
   "source": [
    "# Get features from pca_3.csv (3 features) and pca_80(7 features)\n",
    "feats_3 = pd.read_csv('pca_3.csv')\n",
    "feats_3 = feats_3.drop('Unnamed: 0', axis=1)\n",
    "\n",
    "feats_7 = pd.read_csv('pca_80.csv')\n",
    "feats_7 = feats_7.drop('Unnamed: 0', axis=1)\n",
    "\n",
    "# Create testing/training datesets (30% testing and 70% training)\n",
    "x_3_train, x_3_test, y_3_train, y_3_test = train_test_split(feats_3, labels, test_size=0.3) \n",
    "x_7_train, x_7_test, y_7_train, y_7_test = train_test_split(feats_7, labels, test_size=0.3) \n"
   ]
  },
  {
   "cell_type": "code",
   "execution_count": 4,
   "metadata": {},
   "outputs": [],
   "source": [
    "# Convert dataframes to numpy array\n",
    "y_3_test = y_3_test.to_numpy()\n",
    "y_7_test = y_7_test.to_numpy()"
   ]
  },
  {
   "cell_type": "code",
   "execution_count": 5,
   "metadata": {},
   "outputs": [],
   "source": [
    "# Naive Bayes fit for 3 features\n",
    "nb3 = GaussianNB()\n",
    "nb3.fit(x_3_train, y_3_train)\n",
    "yh_3 = nb3.predict(x_3_test)\n",
    "\n",
    "# Naive Bayes fit for 7 features\n",
    "nb7 = GaussianNB()\n",
    "nb7.fit(x_7_train, y_7_train)\n",
    "yh_7 = nb7.predict(x_7_test)"
   ]
  },
  {
   "cell_type": "code",
   "execution_count": 6,
   "metadata": {},
   "outputs": [],
   "source": [
    "# Determine accuracy/precisition/f1 scores for data\n",
    "accuracy_3 = accuracy_score(y_3_test, yh_3)\n",
    "precision_3 = precision_score(y_3_test, yh_3, average=\"weighted\")\n",
    "f1_3 = f1_score(y_3_test, yh_3, average=\"weighted\")\n",
    "\n",
    "accuracy_7 = accuracy_score(y_7_test, yh_7)\n",
    "precision_7 = precision_score(y_7_test, yh_7, average=\"weighted\")\n",
    "f1_7 = f1_score(y_7_test, yh_7, average=\"weighted\")"
   ]
  },
  {
   "cell_type": "code",
   "execution_count": 7,
   "metadata": {},
   "outputs": [
    {
     "name": "stdout",
     "output_type": "stream",
     "text": [
      "-----------------7 features-----------------\n",
      "Accuracy: 0.9086588138045051\n",
      "Precision: 0.9094680643797373\n",
      "F1 Score / F-Score: 0.9086853418124087\n",
      "-----------------3 features-----------------\n",
      "Accuracy: 0.9506785148446649\n",
      "Precision: 0.9509295811889402\n",
      "F1 Score / F-Score: 0.9506001542153194\n"
     ]
    }
   ],
   "source": [
    "print(\"-----------------7 features-----------------\")\n",
    "# print(y_7_test)\n",
    "# print(yh_7)\n",
    "\n",
    "print(\"Accuracy: \" + str(accuracy_7))\n",
    "print(\"Precision: \" + str(precision_7))\n",
    "print(\"F1 Score / F-Score: \" + str(f1_7))\n",
    "\n",
    "print(\"-----------------3 features-----------------\")\n",
    "# print(y_3_test)\n",
    "# print(yh_3)\n",
    "\n",
    "print(\"Accuracy: \" + str(accuracy_3))\n",
    "print(\"Precision: \" + str(precision_3))\n",
    "print(\"F1 Score / F-Score: \" + str(f1_3))"
   ]
  }
 ],
 "metadata": {
  "kernelspec": {
   "display_name": "Python 3.10.6 ('project')",
   "language": "python",
   "name": "python3"
  },
  "language_info": {
   "codemirror_mode": {
    "name": "ipython",
    "version": 3
   },
   "file_extension": ".py",
   "mimetype": "text/x-python",
   "name": "python",
   "nbconvert_exporter": "python",
   "pygments_lexer": "ipython3",
   "version": "3.10.6"
  },
  "orig_nbformat": 4,
  "vscode": {
   "interpreter": {
    "hash": "c23aa20ec684d5c4d3bbf67f148d1c098ef614429bfb4e3f444de552daf32165"
   }
  }
 },
 "nbformat": 4,
 "nbformat_minor": 2
}
